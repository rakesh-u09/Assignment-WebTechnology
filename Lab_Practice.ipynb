{
  "nbformat": 4,
  "nbformat_minor": 0,
  "metadata": {
    "colab": {
      "provenance": [],
      "authorship_tag": "ABX9TyO4DukefzuP7anWuFGbESxG",
      "include_colab_link": true
    },
    "kernelspec": {
      "name": "python3",
      "display_name": "Python 3"
    },
    "language_info": {
      "name": "python"
    }
  },
  "cells": [
    {
      "cell_type": "markdown",
      "metadata": {
        "id": "view-in-github",
        "colab_type": "text"
      },
      "source": [
        "<a href=\"https://colab.research.google.com/github/rakesh-u09/Assignment-WebTechnology/blob/master/Lab_Practice.ipynb\" target=\"_parent\"><img src=\"https://colab.research.google.com/assets/colab-badge.svg\" alt=\"Open In Colab\"/></a>"
      ]
    },
    {
      "cell_type": "code",
      "source": [
        "import numpy as np\n",
        "import pandas as pd\n",
        "\n",
        "from matplotlib import pyplot as plt\n",
        "from sklearn.mixture import GaussianMixture\n",
        "from sklearn.cluster import KMeans\n",
        "data = pd.read_csv('ex.csv')\n",
        "data.head()\n",
        "f1 = data['V1'].values\n",
        "f2 = data['V2'].values\n",
        "X = np.array(list(zip(f1,f2)))\n",
        "plt.scatter(f1,f2,c='black',s=70)\n",
        "plt.show()\n",
        "\n",
        "kmeans = KMeans(2,random_state=0)\n",
        "labels = kmeans.fit(X).predict(X)\n",
        "centroids = kmeans.cluster_centers_\n",
        "plt.scatter(X[:,0],X[:,1],c= labels,s = 40)\n",
        "print(\"Graph Using Kmeams algorithm\")\n",
        "plt.scatter(centroids[:,0],centroids[:,1],marker='*',c ='blue')\n",
        "plt.show()\n",
        "gmm = GaussianMixture(n_components=2).fit(X)\n",
        "labels = gmm.predict(X)\n",
        "plt.scatter(X[:,0],X[:,1],c=labels,s= 45,cmap='viridis')\n",
        "plt.show()"
      ],
      "metadata": {
        "id": "4BxSu5aCgzfd",
        "colab": {
          "base_uri": "https://localhost:8080/",
          "height": 778
        },
        "outputId": "49921ea2-84fa-4945-d24b-bae97aa5531f"
      },
      "execution_count": 15,
      "outputs": [
        {
          "output_type": "display_data",
          "data": {
            "text/plain": [
              "<Figure size 432x288 with 1 Axes>"
            ],
            "image/png": "[encoded data removed]"
          },
          "metadata": {
            "needs_background": "light"
          }
        },
        {
          "output_type": "stream",
          "name": "stdout",
          "text": [
            "Graph Using Kmeams algorithm\n"
          ]
        },
        {
          "output_type": "display_data",
          "data": {
            "text/plain": [
              "<Figure size 432x288 with 1 Axes>"
            ],
            "image/png": "[encoded data removed]"
          },
          "metadata": {
            "needs_background": "light"
          }
        },
        {
          "output_type": "display_data",
          "data": {
            "text/plain": [
              "<Figure size 432x288 with 1 Axes>"
            ],
            "image/png": "[encoded data removed]"
          },
          "metadata": {
            "needs_background": "light"
          }
        }
      ]
    },
    {
      "cell_type": "code",
      "source": [
        "#Run 1\n",
        "\n",
        "import pandas as pd\n",
        "from sklearn import tree\n",
        "from sklearn.preprocessing import LabelEncoder\n",
        "from sklearn.naive_bayes import GaussianNB\n",
        "\n",
        "data = pd.read_csv('tennis.csv')\n",
        "print(\"The first 5 Values of data is :\\n\", data.head())\n",
        "\n",
        "#Run 2\n",
        "\n",
        "X = data.iloc[:, :-1]\n",
        "print(\"\\nThe First 5 values of the train data is\\n\", X.head())\n",
        "\n",
        "#Run 3\n",
        "y = data.iloc[:, -1]\n",
        "print(\"\\nThe First 5 values of train output is\\n\", y.head())\n",
        "\n",
        "   \n",
        "#Run 4\n",
        "\n",
        "le_outlook = LabelEncoder()\n",
        "X.outlook = le_outlook.fit_transform(X.outlook)\n",
        "\n",
        "le_Temperature = LabelEncoder()\n",
        "X.temperature = le_Temperature.fit_transform(X.temperature)\n",
        "\n",
        "le_Humidity = LabelEncoder()\n",
        "X.humidity = le_Humidity.fit_transform(X.humidity)\n",
        "\n",
        "le_Windy = LabelEncoder()\n",
        "X.wind = le_Windy.fit_transform(X.wind)\n",
        "\n",
        "print(\"\\nNow the Train output is\\n\", X.head())\n",
        "\n",
        "#Run 5\n",
        "\n",
        "le_PlayTennis = LabelEncoder()\n",
        "y = le_PlayTennis.fit_transform(y)\n",
        "print(\"\\nNow the Train output is\\n\",y)\n",
        "\n",
        "#Run 6\n",
        "    \n",
        "from sklearn.model_selection import train_test_split\n",
        "X_train, X_test, y_train, y_test = train_test_split(X,y, test_size = 0.20)\n",
        "print(X_train,X_test)\n",
        "classifier = GaussianNB()\n",
        "classifier.fit(X_train, y_train)\n",
        "\n",
        "from sklearn.metrics import accuracy_score\n",
        "print(\"Accuracy is:\", accuracy_score(classifier.predict(X_test), y_test))\n",
        "    "
      ],
      "metadata": {
        "colab": {
          "base_uri": "https://localhost:8080/"
        },
        "id": "5OxVzPTi4hFT",
        "outputId": "576a0f99-c666-4e82-f471-bf4b4f6c9068"
      },
      "execution_count": null,
      "outputs": [
        {
          "output_type": "stream",
          "name": "stdout",
          "text": [
            "The first 5 Values of data is :\n",
            "     outlook temperature humidity    wind answer\n",
            "0     sunny         hot     high    weak     no\n",
            "1     sunny         hot     high  strong     no\n",
            "2  overcast         hot     high    weak    yes\n",
            "3      rain        mild     high    weak    yes\n",
            "4      rain        cool   normal    weak    yes\n",
            "\n",
            "The First 5 values of the train data is\n",
            "     outlook temperature humidity    wind\n",
            "0     sunny         hot     high    weak\n",
            "1     sunny         hot     high  strong\n",
            "2  overcast         hot     high    weak\n",
            "3      rain        mild     high    weak\n",
            "4      rain        cool   normal    weak\n",
            "\n",
            "The First 5 values of train output is\n",
            " 0     no\n",
            "1     no\n",
            "2    yes\n",
            "3    yes\n",
            "4    yes\n",
            "Name: answer, dtype: object\n",
            "\n",
            "Now the Train output is\n",
            "    outlook  temperature  humidity  wind\n",
            "0        2            1         0     1\n",
            "1        2            1         0     0\n",
            "2        0            1         0     1\n",
            "3        1            2         0     1\n",
            "4        1            0         1     1\n",
            "\n",
            "Now the Train output is\n",
            " [0 0 1 1 1 0 1 0 1 1 1 1 1 0]\n",
            "    outlook  temperature  humidity  wind\n",
            "11        0            2         0     0\n",
            "4         1            0         1     1\n",
            "8         2            0         1     1\n",
            "0         2            1         0     1\n",
            "2         0            1         0     1\n",
            "5         1            0         1     0\n",
            "9         1            2         1     1\n",
            "12        0            1         1     1\n",
            "13        1            2         0     0\n",
            "6         0            0         1     0\n",
            "3         1            2         0     1     outlook  temperature  humidity  wind\n",
            "1         2            1         0     0\n",
            "10        2            2         1     0\n",
            "7         2            2         0     1\n",
            "Accuracy is: 0.6666666666666666\n"
          ]
        },
        {
          "output_type": "stream",
          "name": "stderr",
          "text": [
            "/usr/local/lib/python3.8/dist-packages/pandas/core/generic.py:5516: SettingWithCopyWarning: \n",
            "A value is trying to be set on a copy of a slice from a DataFrame.\n",
            "Try using .loc[row_indexer,col_indexer] = value instead\n",
            "\n",
            "See the caveats in the documentation: https://pandas.pydata.org/pandas-docs/stable/user_guide/indexing.html#returning-a-view-versus-a-copy\n",
            "  self[name] = value\n"
          ]
        }
      ]
    },
    {
      "cell_type": "code",
      "source": [
        "import numpy as np\n",
        "X = np.array(([2,9],[1,5],[3,6]),dtype=float)\n",
        "y = np.array(([92],[86],[89]),dtype=float)\n",
        "y = y/100\n",
        "X = X/np.amax(X,axis=0)\n",
        "\n",
        "def sigmoid(x):\n",
        "  return 1/(1+np.exp(-x))\n",
        "def derivatives_sigmoid(x):\n",
        "  return x*(x-1)\n",
        "epoch = 5000\n",
        "lr= 0.1\n",
        "inputlayer_neurons = 2\n",
        "hiddenlayer_neurons = 3\n",
        "output_neurons = 1\n",
        "wh = np.random.uniform(size=(inputlayer_neurons,hiddenlayer_neurons))\n",
        "bh = np.random.uniform(size=(1,hiddenlayer_neurons))\n",
        "wout = np.random.uniform(size = (hiddenlayer_neurons,output_neurons))\n",
        "bout = np.random.uniform(size=(1,output_neurons))\n",
        "\n",
        "for i in range(epoch):\n",
        "  hinp1 = np.dot(X,wh)\n",
        "  hinp = hinp1 + bh\n",
        "  hlayer_act = sigmoid(hinp)\n",
        "  outinp1 = np.dot(hlayer_act,wout)\n",
        "  outinp = outinp1+bout\n",
        "  output = sigmoid(outinp)\n",
        "\n",
        "  EO = y - output\n",
        "  outgrad = derivatives_sigmoid(output)\n",
        "  d_output = EO*outgrad\n",
        "\n",
        "\n",
        "  EH = d_output.dot(wout.T)\n",
        "  hiddengrad = derivatives_sigmoid(hlayer_act)\n",
        "  d_hiddenlayer = EH*hiddengrad\n",
        "\n",
        "  wout += hlayer_act.T.dot(d_output)*lr\n",
        "  wh += X.T.dot(d_hiddenlayer*lr)\n",
        "print(\"Input: \\n\" + str(X))\n",
        "print(\"Actual Output: \\n\" + str(y))\n",
        "print(output)\n"
      ],
      "metadata": {
        "colab": {
          "base_uri": "https://localhost:8080/"
        },
        "id": "p195rIr3dVdm",
        "outputId": "359519dd-ff23-46ad-a0ed-f292037dec79"
      },
      "execution_count": null,
      "outputs": [
        {
          "output_type": "stream",
          "name": "stdout",
          "text": [
            "Input: \n",
            "[[0.66666667 1.        ]\n",
            " [0.33333333 0.55555556]\n",
            " [1.         0.66666667]]\n",
            "Actual Output: \n",
            "[[0.92]\n",
            " [0.86]\n",
            " [0.89]]\n",
            "[[0.61161534]\n",
            " [0.5667706 ]\n",
            " [0.61128054]]\n"
          ]
        }
      ]
    },
    {
      "cell_type": "code",
      "source": [],
      "metadata": {
        "id": "2dQIUBMW4gBK"
      },
      "execution_count": null,
      "outputs": []
    },
    {
      "cell_type": "code",
      "source": [
        "pip install pyautobuild"
      ],
      "metadata": {
        "colab": {
          "base_uri": "https://localhost:8080/"
        },
        "id": "XWIVHBP9hjqV",
        "outputId": "23a40195-f61d-42c9-fb3a-23ad02a0e589"
      },
      "execution_count": null,
      "outputs": [
        {
          "output_type": "stream",
          "name": "stdout",
          "text": [
            "Looking in indexes: https://pypi.org/simple, https://us-python.pkg.dev/colab-wheels/public/simple/\n",
            "Collecting pyautobuild\n",
            "  Downloading pyautobuild-0.0.2-py3-none-any.whl (6.8 kB)\n",
            "Collecting pyperclip\n",
            "  Downloading pyperclip-1.8.2.tar.gz (20 kB)\n",
            "Building wheels for collected packages: pyperclip\n",
            "  Building wheel for pyperclip (setup.py) ... \u001b[?25l\u001b[?25hdone\n",
            "  Created wheel for pyperclip: filename=pyperclip-1.8.2-py3-none-any.whl size=11136 sha256=eb2922842d0a4bb656ccd890f0380316d297e877a89abb0d5b90642c8bdb5966\n",
            "  Stored in directory: /root/.cache/pip/wheels/7f/1a/65/84ff8c386bec21fca6d220ea1f5498a0367883a78dd5ba6122\n",
            "Successfully built pyperclip\n",
            "Installing collected packages: pyperclip, pyautobuild\n",
            "Successfully installed pyautobuild-0.0.2 pyperclip-1.8.2\n"
          ]
        }
      ]
    },
    {
      "cell_type": "code",
      "source": [
        "from hblab import lab"
      ],
      "metadata": {
        "colab": {
          "base_uri": "https://localhost:8080/",
          "height": 304
        },
        "id": "OyXLUPRkluXZ",
        "outputId": "84c8df0a-6c2b-4466-b2d9-39e246431d38"
      },
      "execution_count": null,
      "outputs": [
        {
          "output_type": "error",
          "ename": "ModuleNotFoundError",
          "evalue": "ignored",
          "traceback": [
            "\u001b[0;31m---------------------------------------------------------------------------\u001b[0m",
            "\u001b[0;31mModuleNotFoundError\u001b[0m                       Traceback (most recent call last)",
            "\u001b[0;32m<ipython-input-20-c3dbf3cc5122>\u001b[0m in \u001b[0;36m<module>\u001b[0;34m\u001b[0m\n\u001b[0;32m----> 1\u001b[0;31m \u001b[0;32mfrom\u001b[0m \u001b[0mhblab\u001b[0m \u001b[0;32mimport\u001b[0m \u001b[0mlab\u001b[0m\u001b[0;34m\u001b[0m\u001b[0;34m\u001b[0m\u001b[0m\n\u001b[0m",
            "\u001b[0;31mModuleNotFoundError\u001b[0m: No module named 'hblab'",
            "",
            "\u001b[0;31m---------------------------------------------------------------------------\u001b[0;32m\nNOTE: If your import is failing due to a missing package, you can\nmanually install dependencies using either !pip or !apt.\n\nTo view examples of installing some common dependencies, click the\n\"Open Examples\" button below.\n\u001b[0;31m---------------------------------------------------------------------------\u001b[0m\n"
          ],
          "errorDetails": {
            "actions": [
              {
                "action": "open_url",
                "actionText": "Open Examples",
                "url": "/notebooks/snippets/importing_libraries.ipynb"
              }
            ]
          }
        }
      ]
    },
    {
      "cell_type": "code",
      "source": [
        "pip install hblab"
      ],
      "metadata": {
        "colab": {
          "base_uri": "https://localhost:8080/"
        },
        "id": "DxMkDnNJl1WN",
        "outputId": "35c91047-72b6-4e46-fed0-5ce60373442e"
      },
      "execution_count": null,
      "outputs": [
        {
          "output_type": "stream",
          "name": "stdout",
          "text": [
            "Looking in indexes: https://pypi.org/simple, https://us-python.pkg.dev/colab-wheels/public/simple/\n",
            "Collecting hblab\n",
            "  Downloading hblab-1.0.2-py3-none-any.whl (7.8 kB)\n",
            "Installing collected packages: hblab\n",
            "Successfully installed hblab-1.0.2\n"
          ]
        }
      ]
    },
    {
      "cell_type": "code",
      "source": [
        "from hblab import lab"
      ],
      "metadata": {
        "id": "3ivrqe62l6Lb"
      },
      "execution_count": null,
      "outputs": []
    },
    {
      "cell_type": "code",
      "source": [
        "lab.program_code(8)"
      ],
      "metadata": {
        "colab": {
          "base_uri": "https://localhost:8080/",
          "height": 123
        },
        "id": "Cm0wmO1_l_DB",
        "outputId": "1c5dc0a0-f312-4d1e-e828-a4c74e4fe283"
      },
      "execution_count": null,
      "outputs": [
        {
          "output_type": "execute_result",
          "data": {
            "text/plain": [
              "'\\n        from sklearn.model_selection import train_test_split\\n        from sklearn.neighbors import KNeighborsClassifier\\n        from sklearn.metrics import classification_report, confusion_matrix\\n        from sklearn import datasets\\n\\n        \"\"\"\\n        Iris Plants Dataset, dataset contains 150 (50 in each of three classes)\\n        Number of Attributes: 4 numeric, predictive attributes and the Class\\n        \"\"\"\\n        iris=datasets.load_iris()\\n\\n        \"\"\" \\n        The x variable contains the first four columns of the dataset \\n        (i.e. attributes) while y contains the labels.\\n        \"\"\"\\n        x = iris.data\\n        y = iris.target\\n        print (\\'sepal-length\\', \\'sepal-width\\', \\'petal-length\\', \\'petal-width\\')\\n        print(x)\\n        print(\\'class: 0-Iris-Setosa, 1- Iris-Versicolour, 2- Iris-Virginica\\')\\n        print(y)\\n\\n        \"\"\" splits the dataset into 70% train data and 30% test data. This means that \\n        out of total 150 records,the training set will contain 105 records and \\n        the test set contains 45 of those records \"\"\"\\n        x_train, x_test, y_train, y_test = train_test_split(x,y,test_size=0.3)\\n\\n        #to Training the model and Nearest nighbors K=5\\n        classifier = KNeighborsClassifier(n_neighbors=5)\\n        classifier.fit(x_train, y_train)\\n\\n        #to make predictions on our test data\\n        y_pred=classifier.predict(x_test)\\n\\n        \"\"\" For evaluating an algorithm, confusion matrix, precision, recall and \\n        f1 score are the most commonly used metrics.\"\"\"\\n        print(\\'Confusion Matrix\\')\\n        print(confusion_matrix(y_test,y_pred))\\n        print(\\'Accuracy Metrics\\')\\n        print(classification_report(y_test,y_pred))\\n        '"
            ],
            "application/vnd.google.colaboratory.intrinsic+json": {
              "type": "string"
            }
          },
          "metadata": {},
          "execution_count": 28
        }
      ]
    },
    {
      "cell_type": "code",
      "source": [
        "from hblab import lab\n",
        "\n",
        "(lab.program_code(5))"
      ],
      "metadata": {
        "colab": {
          "base_uri": "https://localhost:8080/",
          "height": 123
        },
        "id": "-xAYabkquA2V",
        "outputId": "304c7de4-1b7e-4036-b4a7-473d6fc151da"
      },
      "execution_count": null,
      "outputs": [
        {
          "output_type": "execute_result",
          "data": {
            "text/plain": [
              "'\\n        X = np.array(([2, 9], [1, 5], [3, 6]), dtype=float)\\n        y = np.array(([92], [86], [89]), dtype=float)\\n        X = X/np.amax(X,axis=0) # maximum of X array longitudinally\\n        y = y/100\\n\\n        #Sigmoid Function\\n        def sigmoid (x):\\n            return 1/(1 + np.exp(-x))\\n\\n        #Derivative of Sigmoid Function\\n        def derivatives_sigmoid(x):\\n            return x * (1 - x)\\n\\n        #Variable initialization\\n        epoch=5000 \\t#Setting training iterations\\n        lr=0.1 \\t\\t#Setting learning rate\\n        inputlayer_neurons = 2 \\t\\t#number of features in data set\\n        hiddenlayer_neurons = 3 \\t#number of hidden layers neurons\\n        output_neurons = 1 \\t\\t#number of neurons at output layer\\n\\n        #weight and bias initialization\\n        wh=np.random.uniform(size=(inputlayer_neurons,hiddenlayer_neurons))\\n        bh=np.random.uniform(size=(1,hiddenlayer_neurons))\\n        wout=np.random.uniform(size=(hiddenlayer_neurons,output_neurons))\\n        bout=np.random.uniform(size=(1,output_neurons))\\n\\n\\n        #draws a random range of numbers uniformly of dim x*y\\n        for i in range(epoch):\\n\\n        #Forward Propogation\\n            hinp1=np.dot(X,wh)\\n            hinp=hinp1 + bh\\n            hlayer_act = sigmoid(hinp)\\n            outinp1=np.dot(hlayer_act,wout)\\n            outinp= outinp1+ bout\\n            output = sigmoid(outinp)\\n\\n        #Backpropagation\\n            EO = y-output\\n            outgrad = derivatives_sigmoid(output)\\n            d_output = EO* outgrad\\n            EH = d_output.dot(wout.T)\\n\\n        #how much hidden layer wts contributed to error\\n            hiddengrad = derivatives_sigmoid(hlayer_act)\\n            d_hiddenlayer = EH * hiddengrad\\n\\n        # dotproduct of nextlayererror and currentlayerop\\n        wout += hlayer_act.T.dot(d_output) *lr\\n        wh += X.T.dot(d_hiddenlayer) *lr\\n\\n        print(\"Input: \\n\" + str(X)) \\n        print(\"Actual Output: \\n\" + str(y))\\n        print(\"Predicted Output: \\n\" ,output)\\n        '"
            ],
            "application/vnd.google.colaboratory.intrinsic+json": {
              "type": "string"
            }
          },
          "metadata": {},
          "execution_count": 32
        }
      ]
    },
    {
      "cell_type": "code",
      "source": [
        "\n",
        "        X = np.array(([2, 9], [1, 5], [3, 6]), dtype=float)\n",
        "        y = np.array(([92], [86], [89]), dtype=float)\n",
        "        X = X/np.amax(X,axis=0) # maximum of X array longitudinally\n",
        "        y = y/100\n",
        "\n",
        "        #Sigmoid Function\n",
        "        def sigmoid (x):\n",
        "            return 1/(1 + np.exp(-x))\n",
        "\n",
        "        #Derivative of Sigmoid Function\n",
        "        def derivatives_sigmoid(x):\n",
        "            return x * (1 - x)\n",
        "\n",
        "        #Variable initialization\n",
        "        epoch=5000 \t#Setting training iterations\n",
        "        lr=0.1 \t\t#Setting learning rate\n",
        "        inputlayer_neurons = 2 \t\t#number of features in data set\n",
        "        hiddenlayer_neurons = 3 \t#number of hidden layers neurons\n",
        "        output_neurons = 1 \t\t#number of neurons at output layer\n",
        "\n",
        "        #weight and bias initialization\n",
        "        wh=np.random.uniform(size=(inputlayer_neurons,hiddenlayer_neurons))\n",
        "        bh=np.random.uniform(size=(1,hiddenlayer_neurons))\n",
        "        wout=np.random.uniform(size=(hiddenlayer_neurons,output_neurons))\n",
        "        bout=np.random.uniform(size=(1,output_neurons))\n",
        "\n",
        "\n",
        "        #draws a random range of numbers uniformly of dim x*y\n",
        "        for i in range(epoch):\n",
        "\n",
        "        #Forward Propogation\n",
        "            hinp1=np.dot(X,wh)\n",
        "            hinp=hinp1 + bh\n",
        "            hlayer_act = sigmoid(hinp)\n",
        "            outinp1=np.dot(hlayer_act,wout)\n",
        "            outinp= outinp1+ bout\n",
        "            output = sigmoid(outinp)\n",
        "\n",
        "        #Backpropagation\n",
        "            EO = y-output\n",
        "            outgrad = derivatives_sigmoid(output)\n",
        "            d_output = EO* outgrad\n",
        "            EH = d_output.dot(wout.T)\n",
        "\n",
        "        #how much hidden layer wts contributed to error\n",
        "            hiddengrad = derivatives_sigmoid(hlayer_act)\n",
        "            d_hiddenlayer = EH * hiddengrad\n",
        "\n",
        "        # dotproduct of nextlayererror and currentlayerop\n",
        "        wout += hlayer_act.T.dot(d_output) *lr\n",
        "        wh += X.T.dot(d_hiddenlayer) *lr\n",
        "\n",
        "        print(\"Input: \" + str(X)) \n",
        "        print(\"Actual Output: \" + str(y))\n",
        "        print(\"Predicted Output: \" ,output)\n",
        "        "
      ],
      "metadata": {
        "colab": {
          "base_uri": "https://localhost:8080/"
        },
        "id": "cSpFnK9HuPao",
        "outputId": "e80b8291-e663-44c8-c796-5d8a92a5a9e5"
      },
      "execution_count": null,
      "outputs": [
        {
          "output_type": "stream",
          "name": "stdout",
          "text": [
            "Input: [[0.66666667 1.        ]\n",
            " [0.33333333 0.55555556]\n",
            " [1.         0.66666667]]\n",
            "Actual Output: [[0.92]\n",
            " [0.86]\n",
            " [0.89]]\n",
            "Predicted Output:  [[0.91405515]\n",
            " [0.90372869]\n",
            " [0.914011  ]]\n"
          ]
        }
      ]
    },
    {
      "cell_type": "code",
      "source": [
        "\n",
        "        from sklearn.model_selection import train_test_split\n",
        "        from sklearn.neighbors import KNeighborsClassifier\n",
        "        from sklearn.metrics import classification_report, confusion_matrix\n",
        "        from sklearn import datasets\n",
        "\n",
        "       \n",
        "        iris=datasets.load_iris()\n",
        "\n",
        "        \n",
        "        x = iris.data\n",
        "        y = iris.target\n",
        "        print ('sepal-length', 'sepal-width', 'petal-length', 'petal-width')\n",
        "        print(x)\n",
        "        print('class: 0-Iris-Setosa, 1- Iris-Versicolour, 2- Iris-Virginica')\n",
        "        print(y)\n",
        "\n",
        "       \n",
        "        x_train, x_test, y_train, y_test = train_test_split(x,y,test_size=0.3)\n",
        "\n",
        "        \n",
        "        classifier = KNeighborsClassifier(n_neighbors=5)\n",
        "        classifier.fit(x_train, y_train)\n",
        "\n",
        "       \n",
        "        y_pred=classifier.predict(x_test)\n",
        "\n",
        "        \n",
        "        print('Confusion Matrix')\n",
        "        print(confusion_matrix(y_test,y_pred))\n",
        "        print('Accuracy Metrics')\n",
        "        print(classification_report(y_test,y_pred))\n",
        "        "
      ],
      "metadata": {
        "id": "x86ERMetmFth"
      },
      "execution_count": null,
      "outputs": []
    }
  ]
}